{
 "cells": [
  {
   "cell_type": "markdown",
   "metadata": {},
   "source": [
    "# The numpy.random package in Python"
   ]
  },
  {
   "cell_type": "markdown",
   "metadata": {},
   "source": [
    "## Student: Zara Quail G00376517"
   ]
  },
  {
   "cell_type": "markdown",
   "metadata": {},
   "source": [
    "## Programming for Data Analytics Assignment 11 November 2019"
   ]
  },
  {
   "cell_type": "markdown",
   "metadata": {},
   "source": [
    "### 1. The overall purpose of the numpy.random package"
   ]
  },
  {
   "cell_type": "markdown",
   "metadata": {},
   "source": [
    "The numpy.random is a sub-package of the numpy Python package that is designed to generate pseudo random numbers or arrays of numbers.[1,2] It does so by combining sequences from a BitGenerator with samples from different statistical distributions sampled by a Generator.[2] A BitGenerator is an object that is used to generate random numbers or sequences.[2]  Sequences of random bits from a BitGenerator are then transformed by a Generator into sequences of numbers that are in a specific probability distribution inside a specified interval.[2] "
   ]
  },
  {
   "cell_type": "markdown",
   "metadata": {},
   "source": [
    "### 2. The use of the \"Simple random data\" and \"Permutations\" functions"
   ]
  },
  {
   "cell_type": "markdown",
   "metadata": {},
   "source": [
    "#### Simple random data\n",
    "Simple random data functions are used to return random values, samples, integers, floats or bytes from various set intervals, distributions or arrays.[3]"
   ]
  },
  {
   "cell_type": "markdown",
   "metadata": {},
   "source": [
    "##### rand\n",
    "The \"rand\" fuction presents an array of random numbers between 0 and 1 in a specific shape.[3]"
   ]
  },
  {
   "cell_type": "code",
   "execution_count": 12,
   "metadata": {},
   "outputs": [],
   "source": [
    "import numpy as np\n",
    "import matplotlib.pyplot as plt"
   ]
  },
  {
   "cell_type": "code",
   "execution_count": 13,
   "metadata": {
    "scrolled": false
   },
   "outputs": [
    {
     "data": {
      "text/plain": [
       "array([[0.90146165, 0.14271051],\n",
       "       [0.3565442 , 0.17472977],\n",
       "       [0.39381941, 0.974553  ]])"
      ]
     },
     "execution_count": 13,
     "metadata": {},
     "output_type": "execute_result"
    }
   ],
   "source": [
    "# rand function code [3]\n",
    "\n",
    "np.random.rand(3,2)"
   ]
  },
  {
   "cell_type": "code",
   "execution_count": 14,
   "metadata": {
    "scrolled": true
   },
   "outputs": [
    {
     "data": {
      "text/plain": [
       "array([0.15260228, 0.99159718, 0.46837356, 0.65128828])"
      ]
     },
     "execution_count": 14,
     "metadata": {},
     "output_type": "execute_result"
    }
   ],
   "source": [
    "np.random.rand(4)"
   ]
  },
  {
   "cell_type": "markdown",
   "metadata": {},
   "source": [
    "##### randn function \n",
    "The \"randn\" function is demonstrated below showing how this function returns a sample/s from the \"standard normal\" distribution.[3]\n",
    "A single float is randomly sampled from the distribution if no argument is provided for rhe randn function.[3] For example:[3]"
   ]
  },
  {
   "cell_type": "code",
   "execution_count": 18,
   "metadata": {},
   "outputs": [
    {
     "data": {
      "text/plain": [
       "0.628639703398255"
      ]
     },
     "execution_count": 18,
     "metadata": {},
     "output_type": "execute_result"
    }
   ],
   "source": [
    "# randn function code [3]\n",
    "\n",
    "np.random.randn()"
   ]
  },
  {
   "cell_type": "markdown",
   "metadata": {},
   "source": [
    "If arguments are inserted, then the randn function creates an array of shape filled with random floats taken from a univariate \"normal\" distribution in which the mean is 0 with a variance of 1.[3] For example:[3]"
   ]
  },
  {
   "cell_type": "code",
   "execution_count": 17,
   "metadata": {},
   "outputs": [
    {
     "data": {
      "text/plain": [
       "array([[1.06066274, 0.26065519, 1.27837753, 3.30748372],\n",
       "       [2.28363859, 1.16417649, 2.63239221, 6.94101817]])"
      ]
     },
     "execution_count": 17,
     "metadata": {},
     "output_type": "execute_result"
    }
   ],
   "source": [
    "2.5 * np.random.randn(2, 4) + 3"
   ]
  },
  {
   "cell_type": "markdown",
   "metadata": {},
   "source": [
    "##### randint function\n",
    "\n",
    "The \"randint\" function is numpy.random.randint(low, high=None, size=None, dtype='I') and returns random integers from low(inclusive) to high (exclusive) as shown in the examples below:[3]"
   ]
  },
  {
   "cell_type": "code",
   "execution_count": 26,
   "metadata": {},
   "outputs": [
    {
     "data": {
      "text/plain": [
       "array([1, 0, 0, 1, 1, 0, 1, 0, 0, 1])"
      ]
     },
     "execution_count": 26,
     "metadata": {},
     "output_type": "execute_result"
    }
   ],
   "source": [
    "# randint function code source [3]\n",
    "\n",
    "np.random.randint(2, size=10)"
   ]
  },
  {
   "cell_type": "code",
   "execution_count": 27,
   "metadata": {},
   "outputs": [
    {
     "data": {
      "text/plain": [
       "array([0, 0, 0, 0, 0, 0, 0, 0, 0, 0])"
      ]
     },
     "execution_count": 27,
     "metadata": {},
     "output_type": "execute_result"
    }
   ],
   "source": [
    "np.random.randint(1, size=10)"
   ]
  },
  {
   "cell_type": "code",
   "execution_count": 28,
   "metadata": {},
   "outputs": [
    {
     "data": {
      "text/plain": [
       "array([0, 0, 1, 1, 1, 3, 1, 3, 0, 2, 2, 3, 3, 2, 2, 3, 2, 1, 0, 3])"
      ]
     },
     "execution_count": 28,
     "metadata": {},
     "output_type": "execute_result"
    }
   ],
   "source": [
    "np.random.randint(4, size=20)"
   ]
  },
  {
   "cell_type": "code",
   "execution_count": 63,
   "metadata": {},
   "outputs": [
    {
     "data": {
      "text/plain": [
       "array([11, 16, 35, 48, 38, 44, 65])"
      ]
     },
     "execution_count": 63,
     "metadata": {},
     "output_type": "execute_result"
    }
   ],
   "source": [
    "#Another example of generating 7 random integers between 3 and 113 [9]\n",
    "\n",
    "np.random.randint(low=3, high=113, size=7)"
   ]
  },
  {
   "cell_type": "markdown",
   "metadata": {},
   "source": [
    "An example of generating a 3 x 6 array of integers between 0 and 6:[3]"
   ]
  },
  {
   "cell_type": "code",
   "execution_count": 29,
   "metadata": {},
   "outputs": [
    {
     "data": {
      "text/plain": [
       "array([[3, 1, 3, 0, 5, 3],\n",
       "       [2, 0, 6, 6, 3, 6],\n",
       "       [0, 1, 4, 3, 5, 2]])"
      ]
     },
     "execution_count": 29,
     "metadata": {},
     "output_type": "execute_result"
    }
   ],
   "source": [
    "np.random.randint(7, size=(3, 6))"
   ]
  },
  {
   "cell_type": "markdown",
   "metadata": {},
   "source": [
    "##### random_integers\n",
    "The \"random_integers\" function is numpy.random.random_integers(low, high=None, size=None) and generates random integers of the type np.int between the lowest and the highest inclusive as shown in the examples below:[3]"
   ]
  },
  {
   "cell_type": "code",
   "execution_count": 32,
   "metadata": {},
   "outputs": [
    {
     "name": "stderr",
     "output_type": "stream",
     "text": [
      "C:\\Users\\Zara\\Anaconda3\\lib\\site-packages\\ipykernel_launcher.py:1: DeprecationWarning: This function is deprecated. Please call randint(1, 7 + 1) instead\n",
      "  \"\"\"Entry point for launching an IPython kernel.\n"
     ]
    },
    {
     "data": {
      "text/plain": [
       "1"
      ]
     },
     "execution_count": 32,
     "metadata": {},
     "output_type": "execute_result"
    }
   ],
   "source": [
    "# random_integers function code [3]\n",
    "\n",
    "np.random.random_integers(7)"
   ]
  },
  {
   "cell_type": "markdown",
   "metadata": {},
   "source": [
    "So, interestingly in the example above I tried from the Scipy.org reference examples in the 2018 version but I learnt something new in the warning about deprecated functions.[6]"
   ]
  },
  {
   "cell_type": "code",
   "execution_count": 33,
   "metadata": {},
   "outputs": [
    {
     "name": "stderr",
     "output_type": "stream",
     "text": [
      "C:\\Users\\Zara\\Anaconda3\\lib\\site-packages\\ipykernel_launcher.py:1: DeprecationWarning: This function is deprecated. Please call randint(1, 5 + 1) instead\n",
      "  \"\"\"Entry point for launching an IPython kernel.\n"
     ]
    },
    {
     "data": {
      "text/plain": [
       "numpy.int32"
      ]
     },
     "execution_count": 33,
     "metadata": {},
     "output_type": "execute_result"
    }
   ],
   "source": [
    "type(np.random.random_integers(5))"
   ]
  },
  {
   "cell_type": "code",
   "execution_count": 35,
   "metadata": {},
   "outputs": [
    {
     "name": "stderr",
     "output_type": "stream",
     "text": [
      "C:\\Users\\Zara\\Anaconda3\\lib\\site-packages\\ipykernel_launcher.py:1: DeprecationWarning: This function is deprecated. Please call randint(1, 5 + 1) instead\n",
      "  \"\"\"Entry point for launching an IPython kernel.\n"
     ]
    },
    {
     "data": {
      "text/plain": [
       "array([[2, 4],\n",
       "       [5, 2],\n",
       "       [5, 2]])"
      ]
     },
     "execution_count": 35,
     "metadata": {},
     "output_type": "execute_result"
    }
   ],
   "source": [
    "np.random.random_integers(5, size=(3,2))"
   ]
  },
  {
   "cell_type": "markdown",
   "metadata": {},
   "source": [
    "So my observation is that the \"random_integers\" function is outdated and \"randint\" function should be used instead."
   ]
  },
  {
   "cell_type": "markdown",
   "metadata": {},
   "source": [
    "##### random_sample, random, ranf and sample\n",
    "Further functions within the simple random data include \"random_sample\", \"random\", \"ranf\" and \"sample\" all of which return random floats in the half-open interval [0.0, 1.0).[3] Examples are shown below using \"random_sample\":[3]"
   ]
  },
  {
   "cell_type": "code",
   "execution_count": 36,
   "metadata": {},
   "outputs": [
    {
     "data": {
      "text/plain": [
       "0.9785126141332607"
      ]
     },
     "execution_count": 36,
     "metadata": {},
     "output_type": "execute_result"
    }
   ],
   "source": [
    "# random_sample function code [3]\n",
    "\n",
    "np.random.random_sample()"
   ]
  },
  {
   "cell_type": "code",
   "execution_count": 37,
   "metadata": {},
   "outputs": [
    {
     "data": {
      "text/plain": [
       "float"
      ]
     },
     "execution_count": 37,
     "metadata": {},
     "output_type": "execute_result"
    }
   ],
   "source": [
    "type(np.random.random_sample())"
   ]
  },
  {
   "cell_type": "code",
   "execution_count": 38,
   "metadata": {},
   "outputs": [
    {
     "data": {
      "text/plain": [
       "array([0.77884775, 0.55008182, 0.75090987, 0.14505557, 0.49725028])"
      ]
     },
     "execution_count": 38,
     "metadata": {},
     "output_type": "execute_result"
    }
   ],
   "source": [
    "np.random.random_sample((5,))"
   ]
  },
  {
   "cell_type": "markdown",
   "metadata": {},
   "source": [
    "A five-by-three array of random numbers from [-7, 0) is as follows:[3]"
   ]
  },
  {
   "cell_type": "code",
   "execution_count": 39,
   "metadata": {},
   "outputs": [
    {
     "data": {
      "text/plain": [
       "array([[-2.8557037 , -2.164235  , -5.10136993],\n",
       "       [-6.24508449, -2.36102166, -6.2279231 ],\n",
       "       [-0.75099893, -3.8952453 , -3.72014798],\n",
       "       [-1.31392805, -6.19861582, -2.87305756],\n",
       "       [-3.28135074, -6.38942299, -3.77850555]])"
      ]
     },
     "execution_count": 39,
     "metadata": {},
     "output_type": "execute_result"
    }
   ],
   "source": [
    "7 * np.random.random_sample((5, 3)) - 7"
   ]
  },
  {
   "cell_type": "code",
   "execution_count": null,
   "metadata": {},
   "outputs": [],
   "source": []
  },
  {
   "cell_type": "markdown",
   "metadata": {},
   "source": [
    "##### choice\n",
    "The numpy.random.choice(a, size=None, replace=True, p=None) function generates a random sample from a given 1-D array as shown in the examples below:[3]"
   ]
  },
  {
   "cell_type": "code",
   "execution_count": 40,
   "metadata": {},
   "outputs": [
    {
     "data": {
      "text/plain": [
       "array([0, 2, 1, 4])"
      ]
     },
     "execution_count": 40,
     "metadata": {},
     "output_type": "execute_result"
    }
   ],
   "source": [
    "# choice function code source [3]\n",
    "#Generates a uniform random samples from np.arange(7) of size 4\n",
    "#SciPy notes that this is the same as np.random.randint(0,7,4)\n",
    "np.random.choice(7, 4)"
   ]
  },
  {
   "cell_type": "code",
   "execution_count": 42,
   "metadata": {},
   "outputs": [
    {
     "data": {
      "text/plain": [
       "array([3, 3, 2], dtype=int64)"
      ]
     },
     "execution_count": 42,
     "metadata": {},
     "output_type": "execute_result"
    }
   ],
   "source": [
    "#Generates a non-uniform random samples from np.arange(5) of size 3\n",
    "np.random.choice(5, 3, p=[0.1, 0, 0.3, 0.6, 0])"
   ]
  },
  {
   "cell_type": "markdown",
   "metadata": {},
   "source": [
    "##### bytes\n",
    "The numpy.random.bytes(length) function returns random bytes as shown in the example below:[3]"
   ]
  },
  {
   "cell_type": "code",
   "execution_count": 43,
   "metadata": {},
   "outputs": [
    {
     "data": {
      "text/plain": [
       "b'f\\xb1[\\xfb\\x00\\x03\\xc0U\\xe7\\xba'"
      ]
     },
     "execution_count": 43,
     "metadata": {},
     "output_type": "execute_result"
    }
   ],
   "source": [
    "# bytes function code source [3] \n",
    "\n",
    "np.random.bytes(10)"
   ]
  },
  {
   "cell_type": "code",
   "execution_count": 44,
   "metadata": {},
   "outputs": [
    {
     "data": {
      "text/plain": [
       "b'6\\xa5\\xa2\\xde\\xd5\\xb6\\xf8>\\x12i\\x171\\xc6\\xb3\\x87/\\xa8F\\xe6\\xe82\\x9e?\\xd2'"
      ]
     },
     "execution_count": 44,
     "metadata": {},
     "output_type": "execute_result"
    }
   ],
   "source": [
    "np.random.bytes(24)"
   ]
  },
  {
   "cell_type": "markdown",
   "metadata": {},
   "source": [
    "#### Permutations\n",
    "For permutations there are two functions, namely: shuffle and permutation.[3, 4]\n",
    "\n",
    "##### Shuffle\n",
    "The \"shuffle\" function is numpy.random.shuffle(x).[3] It used to modify a sequence in-place by shuffling it contents as show in the examples below:[3]"
   ]
  },
  {
   "cell_type": "code",
   "execution_count": 19,
   "metadata": {},
   "outputs": [
    {
     "data": {
      "text/plain": [
       "array([5, 2, 4, 8, 7, 0, 9, 1, 6, 3])"
      ]
     },
     "execution_count": 19,
     "metadata": {},
     "output_type": "execute_result"
    }
   ],
   "source": [
    "# shuffle function code source [3]\n",
    "\n",
    "arr = np.arange(10)\n",
    "np.random.shuffle(arr)\n",
    "arr"
   ]
  },
  {
   "cell_type": "markdown",
   "metadata": {},
   "source": [
    "The shuffle function only shuffles the array along the first axis.[3] For example:[3]"
   ]
  },
  {
   "cell_type": "code",
   "execution_count": 20,
   "metadata": {
    "scrolled": true
   },
   "outputs": [
    {
     "data": {
      "text/plain": [
       "array([[3, 4, 5],\n",
       "       [6, 7, 8],\n",
       "       [0, 1, 2]])"
      ]
     },
     "execution_count": 20,
     "metadata": {},
     "output_type": "execute_result"
    }
   ],
   "source": [
    "arr = np.arange(9).reshape((3, 3))\n",
    "np.random.shuffle(arr)\n",
    "arr"
   ]
  },
  {
   "cell_type": "markdown",
   "metadata": {},
   "source": [
    "##### Permutation\n",
    "\n",
    "The permutation function is numpy.random.permutation(x).[3] Permute means to \"submit to a process of alteration, rearrangement, or permutation\".[5] The perumtation function randomly permutes a sequence or returns a permuted range as shown in the examples below:[3] "
   ]
  },
  {
   "cell_type": "code",
   "execution_count": 21,
   "metadata": {},
   "outputs": [
    {
     "data": {
      "text/plain": [
       "array([5, 7, 6, 4, 3, 2, 8, 9, 0, 1])"
      ]
     },
     "execution_count": 21,
     "metadata": {},
     "output_type": "execute_result"
    }
   ],
   "source": [
    "# permutation function code source [3]\n",
    "\n",
    "np.random.permutation(10)"
   ]
  },
  {
   "cell_type": "code",
   "execution_count": 22,
   "metadata": {},
   "outputs": [
    {
     "data": {
      "text/plain": [
       "array([10, 16,  5,  2, 13])"
      ]
     },
     "execution_count": 22,
     "metadata": {},
     "output_type": "execute_result"
    }
   ],
   "source": [
    "np.random.permutation([2, 5, 10, 13, 16])"
   ]
  },
  {
   "cell_type": "code",
   "execution_count": 24,
   "metadata": {},
   "outputs": [
    {
     "data": {
      "text/plain": [
       "array([[12, 13, 14, 15],\n",
       "       [ 4,  5,  6,  7],\n",
       "       [ 0,  1,  2,  3],\n",
       "       [ 8,  9, 10, 11]])"
      ]
     },
     "execution_count": 24,
     "metadata": {},
     "output_type": "execute_result"
    }
   ],
   "source": [
    "arr = np.arange(16).reshape((4, 4))\n",
    "np.random.permutation(arr)"
   ]
  },
  {
   "cell_type": "markdown",
   "metadata": {},
   "source": [
    "### 3. The use and purpose of at least five \"Distributions\" functions"
   ]
  },
  {
   "cell_type": "markdown",
   "metadata": {},
   "source": [
    "#### binomial\n",
    "The binomial distribution code is numpy.random.binomial(n, p, size=None) and is used to draw samples from a binomial distribution.[3] As an example, a tele-marketing company employee has been cold calling 20 potential clients with a probability of success of 0.1 but gets no agreements from any clients to take up the service. What is the likelihood of getting zero positive responses if we tried called 200 clients?"
   ]
  },
  {
   "cell_type": "code",
   "execution_count": 48,
   "metadata": {},
   "outputs": [
    {
     "data": {
      "text/plain": [
       "0.135"
      ]
     },
     "execution_count": 48,
     "metadata": {},
     "output_type": "execute_result"
    }
   ],
   "source": [
    "# binomial distribution code source [3]\n",
    "\n",
    "sum(np.random.binomial(20, 0.1, 200) == 0)/200."
   ]
  },
  {
   "cell_type": "markdown",
   "metadata": {},
   "source": [
    "So the answer is 0.135 or 13.5%."
   ]
  },
  {
   "cell_type": "markdown",
   "metadata": {},
   "source": [
    "Telemarketing seems tough. (This example was adapted from the Scipy example in ref 3]"
   ]
  },
  {
   "cell_type": "markdown",
   "metadata": {},
   "source": [
    "#### uniform\n",
    "\n",
    "The uniform distribution code is numpy.random.uniform(low=0.0, high=1.0, size=None) and is used to draw samples from a uniform distribution as shown in the examples below to draw samples from the distribution:[3]\n",
    "\n"
   ]
  },
  {
   "cell_type": "code",
   "execution_count": 70,
   "metadata": {},
   "outputs": [
    {
     "data": {
      "text/plain": [
       "True"
      ]
     },
     "execution_count": 70,
     "metadata": {},
     "output_type": "execute_result"
    }
   ],
   "source": [
    "# uniform distribution code source [3]\n",
    "# Draw samples from distribution [3]\n",
    "\n",
    "s = np.random.uniform(-1,0,1000)\n",
    "\n",
    "# All values are within given interval [3]\n",
    "\n",
    "np.all(s >= -1)\n"
   ]
  },
  {
   "cell_type": "code",
   "execution_count": 71,
   "metadata": {},
   "outputs": [
    {
     "data": {
      "text/plain": [
       "True"
      ]
     },
     "execution_count": 71,
     "metadata": {},
     "output_type": "execute_result"
    }
   ],
   "source": [
    "np.all(s < 0)"
   ]
  },
  {
   "cell_type": "code",
   "execution_count": 72,
   "metadata": {
    "scrolled": true
   },
   "outputs": [
    {
     "data": {
      "image/png": "[encoded data removed]",
      "text/plain": [
       "<Figure size 432x288 with 1 Axes>"
      ]
     },
     "metadata": {
      "needs_background": "light"
     },
     "output_type": "display_data"
    }
   ],
   "source": [
    "# To display histogram of the samples plus the probability density function [3]\n",
    "\n",
    "import matplotlib.pyplot as plt\n",
    "count, bins, ignored = plt.hist(s, 15, density=True)\n",
    "plt.plot(bins, np.ones_like(bins), linewidth=2, color='r')\n",
    "\n",
    "# Title and label source code from [10]\n",
    "plt.title(\"Histogram of uniform distribution and probability density function\")\n",
    "plt.xlabel(\"x\")\n",
    "plt.ylabel(\"y\")\n",
    "plt.legend\n",
    "\n",
    "plt.show()"
   ]
  },
  {
   "cell_type": "code",
   "execution_count": 74,
   "metadata": {},
   "outputs": [
    {
     "data": {
      "image/png": "[encoded data removed]",
      "text/plain": [
       "<Figure size 432x288 with 1 Axes>"
      ]
     },
     "metadata": {
      "needs_background": "light"
     },
     "output_type": "display_data"
    }
   ],
   "source": [
    "#Just for fun, added an example of a scatter plot using uniform, normal and randint functions [12]\n",
    "\n",
    "import matplotlib.pyplot as plt\n",
    "import numpy as np\n",
    "\n",
    "x = np.random.uniform(0.0, 10.0, 100)\n",
    "y = np.random.uniform(0.0, 100.0, 100)\n",
    "z = np.random.normal(100.0, 40.0, 100)\n",
    "c = np.random.randint(0, 20, 100)\n",
    "\n",
    "\n",
    "plt.scatter(x, y, c=c, s=z)\n",
    "\n",
    "# Title and label source code from [10]\n",
    "plt.title(\"Scatter plot of uniform, normal and randint functions distributions\")\n",
    "plt.xlabel(\"x\")\n",
    "plt.ylabel(\"y\")\n",
    "plt.legend\n",
    "\n",
    "plt.show()"
   ]
  },
  {
   "cell_type": "markdown",
   "metadata": {},
   "source": [
    "#### normal\n",
    "\n",
    "The normal distribution code numpy.random.normal(loc=0.0, scale=1.0, size=None) and is used to draw random samples from a normal (Gaussian) distribution.[3] This distriution is often seen as a bell curve.[3]"
   ]
  },
  {
   "cell_type": "code",
   "execution_count": 61,
   "metadata": {},
   "outputs": [
    {
     "data": {
      "text/plain": [
       "1.2416106732150283"
      ]
     },
     "execution_count": 61,
     "metadata": {},
     "output_type": "execute_result"
    }
   ],
   "source": [
    "# Generate a random number from the normal distribution [9]\n",
    "\n",
    "np.random.normal()"
   ]
  },
  {
   "cell_type": "code",
   "execution_count": 62,
   "metadata": {},
   "outputs": [
    {
     "data": {
      "text/plain": [
       "array([ 0.00680652, -1.65653652, -0.57508902, -0.17044282, -0.50589678,\n",
       "        1.0180413 ])"
      ]
     },
     "execution_count": 62,
     "metadata": {},
     "output_type": "execute_result"
    }
   ],
   "source": [
    "# Generate 6 random number from the normal distribution [9]\n",
    "\n",
    "np.random.normal(size=6)"
   ]
  },
  {
   "cell_type": "code",
   "execution_count": 68,
   "metadata": {},
   "outputs": [
    {
     "data": {
      "image/png": "[encoded data removed]",
      "text/plain": [
       "<Figure size 432x288 with 2 Axes>"
      ]
     },
     "metadata": {
      "needs_background": "light"
     },
     "output_type": "display_data"
    }
   ],
   "source": [
    "# generate side by side histograms from two different normal distribution [11]\n",
    "\n",
    "plt.subplot(1, 2, 1)\n",
    "x = np.random.normal(0.0, 1.0, 10000)\n",
    "plt.hist(x)\n",
    "\n",
    "plt.subplot(1, 2, 2)\n",
    "x = np.random.normal(-3.0, 3.0, 1000)\n",
    "plt.hist(x)\n",
    "\n",
    "plt.hist(x, bins=20)\n",
    "\n",
    "plt.show()"
   ]
  },
  {
   "cell_type": "code",
   "execution_count": 55,
   "metadata": {},
   "outputs": [
    {
     "data": {
      "text/plain": [
       "True"
      ]
     },
     "execution_count": 55,
     "metadata": {},
     "output_type": "execute_result"
    }
   ],
   "source": [
    "# Draw samples from the distribution source [3]\n",
    "\n",
    "mu, sigma = 0, 0.1 # mean and standard deviation\n",
    "s = np.random.normal(mu, sigma, 1000)\n",
    "\n",
    "#verify the mean and the variance [3]\n",
    "\n",
    "abs(mu - np.mean(s)) < 0.01\n",
    "\n"
   ]
  },
  {
   "cell_type": "code",
   "execution_count": 56,
   "metadata": {},
   "outputs": [
    {
     "data": {
      "text/plain": [
       "True"
      ]
     },
     "execution_count": 56,
     "metadata": {},
     "output_type": "execute_result"
    }
   ],
   "source": [
    "abs(sigma - np.std(s, ddof=1)) < 0.01"
   ]
  },
  {
   "cell_type": "code",
   "execution_count": 67,
   "metadata": {},
   "outputs": [
    {
     "data": {
      "image/png": "[encoded data removed]",
      "text/plain": [
       "<Figure size 432x288 with 1 Axes>"
      ]
     },
     "metadata": {
      "needs_background": "light"
     },
     "output_type": "display_data"
    }
   ],
   "source": [
    "#Histogram of the normal distribution samples using matplotlib.pyplot [3]\n",
    "\n",
    "import matplotlib.pyplot as plt\n",
    "count, bins, ignored = plt.hist(s, 30, density=True)\n",
    "plt.plot(bins, 1/(sigma * np.sqrt(2 * np.pi)) *\n",
    "               np.exp( - (bins - mu)**2 / (2 * sigma**2) ),\n",
    "         linewidth=2, color='r')\n",
    "\n",
    "# Title and label source code from [10]\n",
    "plt.title(\"Histogram of normal distribution\")\n",
    "plt.xlabel(\"x\")\n",
    "plt.ylabel(\"y\")\n",
    "plt.legend\n",
    "\n",
    "plt.show()"
   ]
  },
  {
   "cell_type": "markdown",
   "metadata": {},
   "source": [
    "#### triangular\n",
    "\n",
    "The triangular distribution code is numpy.random.triangular(left, mode, right, size=None) and is used to draw samples from the triangular distribution over the interval [left, right] with the lower value to the left the mode at the peak and the upper value to th right.[3] The example below shows how to draw values from the distribition and plot the histogram.[3]"
   ]
  },
  {
   "cell_type": "code",
   "execution_count": 66,
   "metadata": {},
   "outputs": [
    {
     "data": {
      "image/png": "[encoded data removed]",
      "text/plain": [
       "<Figure size 432x288 with 1 Axes>"
      ]
     },
     "metadata": {
      "needs_background": "light"
     },
     "output_type": "display_data"
    }
   ],
   "source": [
    "#Histogram of the samples using matplotlib.pyplot code [3]\n",
    "\n",
    "import matplotlib.pyplot as plt\n",
    "h = plt.hist(np.random.triangular(-5, 0, 9, 100000), bins=250,\n",
    "             density=True)\n",
    "\n",
    "# Title and label source code from [10]\n",
    "plt.title(\"Histogram of triangular distribution\")\n",
    "plt.xlabel(\"x\")\n",
    "plt.ylabel(\"y\")\n",
    "plt.legend\n",
    "\n",
    "plt.show()"
   ]
  },
  {
   "cell_type": "markdown",
   "metadata": {},
   "source": [
    "#### gumbel\n",
    "\n",
    "The gumbel distribution code is numpy.random.gumbel(loc=0.0, scale=1.0, size=None) and is used to draw samples from a Gumbel distribution with a specific scale and location.[3] The Gumble distribution is also known as the Smallest Extreme Value (SEV) or SEV Type I.[3] It is one distribution of a class of distributions called the Generalized Extreme Value (GEV) distributions which are used to model extreme value problems.[3] Examples of drawing samples from the distribution and showing the histograms associated are shown below:[3]"
   ]
  },
  {
   "cell_type": "code",
   "execution_count": 59,
   "metadata": {},
   "outputs": [],
   "source": [
    "#Initial code [3]\n",
    "\n",
    "mu, beta = 0, 0.1 # location and scale\n",
    "s = np.random.gumbel(mu, beta, 1000)"
   ]
  },
  {
   "cell_type": "code",
   "execution_count": 65,
   "metadata": {
    "scrolled": true
   },
   "outputs": [
    {
     "data": {
      "image/png": "[encoded data removed]",
      "text/plain": [
       "<Figure size 432x288 with 1 Axes>"
      ]
     },
     "metadata": {
      "needs_background": "light"
     },
     "output_type": "display_data"
    }
   ],
   "source": [
    "#Histogram of the samples using matplotlib.pyplot code [3]\n",
    "\n",
    "import matplotlib.pyplot as plt\n",
    "count, bins, ignored = plt.hist(s, 30, density=True)\n",
    "plt.plot(bins, (1/beta)*np.exp(-(bins - mu)/beta)\n",
    "         * np.exp( -np.exp( -(bins - mu) /beta) ),\n",
    "         linewidth=2, color='r')\n",
    "\n",
    "# Title and label source code from [10]\n",
    "plt.title(\"Histogram of gumbel distribution\")\n",
    "plt.xlabel(\"x\")\n",
    "plt.ylabel(\"y\")\n",
    "plt.legend\n",
    "\n",
    "plt.show()"
   ]
  },
  {
   "cell_type": "markdown",
   "metadata": {},
   "source": [
    "### 4. The use of seeds in generating pseudorandom numbers"
   ]
  },
  {
   "cell_type": "markdown",
   "metadata": {},
   "source": [
    "Because computers or humans are not good at generating random numbers, a mechanism is needed to generate numbers that seem to be random.[7] To do so, computers generate pseudorandom numbers. The key piece of the information needed to generate the pseudorandom numbers is the seed.[7] The seed is the position that the computer starts at in a random number generator.[7] If a person knows the seed for a random number generator, they may be able to predict the random numbers.[7] \n",
    "There are four functions in a random generator: RandomState, seed, get_state and set_state.[3]\n",
    "The seed([seed]) function is the seed generator.[3] When RandomState is initialized, the seed method is called.[3] It can also be re-called to re-seed the generator.[3] The RandomState([seed]) function is the container for the Mersenne Twister pseudo-random number generator.[3] It exposes a number of methods to generate random numbers which are drawn from various different probability distributions.[3] Each of the methods takes a keyword argument size for which the default is None. The values returned depend on the keyword for size e.g., If size is None, then one value is generated and returned.[3] If size is an integer, then you get a 1-D array filled with generated values.[3] If size is a tuple, then an array with that shape is filled and returned.[3]\n",
    "\n",
    "The get_state() function is used to return a tuple representing the internal state of the generator.[3] A tuple is a sequence type or a number of values separated by commas. and are considered immutable sequences.[8] The set_state(state) function is used to set the internal state of the generator from a tuple.[3] However, neither set_state or get_state are required to work any of the distributions functions in Numpy.[3]"
   ]
  },
  {
   "cell_type": "markdown",
   "metadata": {},
   "source": [
    "### References\n",
    "\n",
    "1. Ian Mcoughlin. Introduction to numpy.random lecture video. 2018. Available from: https://web.microsoftstream.com/video/ea6519e9-f7ed-444c-9b25-d855dfaa363a (Access date: 11 November 2019)\n",
    "2. NumPy.org. Random sampling (numpy.random). NumPy v1.17rc1 Manual. 2019. Available at: https://numpy.org/doc/1.17/reference/random/index.html (Access date: 11 November 2019)\n",
    "3. SciPy.org. Random sampling (numpy.random). NumPy v1.15 Manual. 2018. Available at: https://docs.scipy.org/doc/numpy-1.15.0/reference/routines.random.html (Access date: 11 November 2019)\n",
    "4. NumPy.org. Random Generator. NumPy v1.17rc1 Manual. 2019 Available at: https://numpy.org/doc/1.17/reference/random/generator.html (Access date: 11 November 2019)\n",
    "5. Oxford. Lexico.com. 2019. Available at: https://www.lexico.com/en/definition/permute (Access date: 11 November 2019)\n",
    "6. Stack Overflow. What does DeprecationWarning mean when running Python. 2017. Available at: https://stackoverflow.com/questions/44944208/what-does-deprecationwarning-mean-when-running-python (Access date: 11 November 2019)\n",
    "7. Ian Mcoughlin. Introduction to numpy.random lecture video. 2018. Available from: https://web.microsoftstream.com/video/db596673-6d67-4d13-93c3-074728c693f2 (Access date: 11 November 2019)\n",
    "8. Python.org. The Python Tutorial: 5. Data Structures. 2019. Available from: https://docs.python.org/3/tutorial/datastructures.html (Access date: 11 November 2019)\n",
    "9. Chris Albon. Generating Random Number with NumPy. 2020. Available from: https://chrisalbon.com/python/basics/generating_random_numbers_with_numpy/ (Access date: 11 November 2019)\n",
    "10. Ian Mcoughlin. Titles, legends and labels lecture video. 2018. Available from: https://web.microsoftstream.com/video/c9883d44-2104-44a5-be96-7419e7de993b (Access date: 11 November 2019)\n",
    "11. Ian Mcoughlin. Histograms lecture video. 2018. Available from: https://web.microsoftstream.com/video/b88a8cbb-2dbd-4cc2-835c-46101baed276  (Access date: 11 November 2019)\n",
    "12. Ian Mcoughlin. Other plots lecture video. 2018. Available from: https://web.microsoftstream.com/video/8f09d1fe-9b94-4908-b71e-94ed7b119174  (Access date: 11 November 2019)"
   ]
  }
 ],
 "metadata": {
  "kernelspec": {
   "display_name": "Python 3",
   "language": "python",
   "name": "python3"
  },
  "language_info": {
   "codemirror_mode": {
    "name": "ipython",
    "version": 3
   },
   "file_extension": ".py",
   "mimetype": "text/x-python",
   "name": "python",
   "nbconvert_exporter": "python",
   "pygments_lexer": "ipython3",
   "version": "3.7.3"
  }
 },
 "nbformat": 4,
 "nbformat_minor": 2
}
