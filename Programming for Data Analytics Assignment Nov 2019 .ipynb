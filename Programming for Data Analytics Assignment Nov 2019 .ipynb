{
 "cells": [
  {
   "cell_type": "markdown",
   "metadata": {},
   "source": [
    "# The numpy.random package in Python"
   ]
  },
  {
   "cell_type": "markdown",
   "metadata": {},
   "source": [
    "## Student: Zara Quail G00376517"
   ]
  },
  {
   "cell_type": "markdown",
   "metadata": {},
   "source": [
    "## Programming for Data Analytics Assignment 11 November 2019"
   ]
  },
  {
   "cell_type": "markdown",
   "metadata": {},
   "source": [
    "### 1. The overall purpose of the numpy.random package"
   ]
  },
  {
   "cell_type": "markdown",
   "metadata": {},
   "source": [
    "The numpy.random is a sub-package of the numpy Python package that is designed to generate pseudo random numbers or arrays of numbers.[1,2] It does so by combining sequences from a BitGenerator with samples from different statistical distributions sampled by a Generator.[2] A BitGenerator is an object that is used to generate random numbers or sequences.[2]  Sequences of random bits from a BitGenerator are then transformed by a Generator into sequences of numbers that are in a specific probability distribution inside a specified interval.[2] "
   ]
  },
  {
   "cell_type": "markdown",
   "metadata": {},
   "source": [
    "### 2. The use of the \"Simple random data\" and \"Permutations\" functions"
   ]
  },
  {
   "cell_type": "markdown",
   "metadata": {},
   "source": [
    "#### Simple random data\n",
    "Simple random data functions are used to return random values, samples, integers, floats or bytes from various set intervals, distributions or arrays.[3]"
   ]
  },
  {
   "cell_type": "markdown",
   "metadata": {},
   "source": [
    "For example the rand fuction presents an array of random numbers between 0 and 1 in a specific shape.[3]"
   ]
  },
  {
   "cell_type": "code",
   "execution_count": 12,
   "metadata": {},
   "outputs": [],
   "source": [
    "import numpy as np\n",
    "import matplotlib.pyplot as plt"
   ]
  },
  {
   "cell_type": "code",
   "execution_count": 13,
   "metadata": {
    "scrolled": true
   },
   "outputs": [
    {
     "data": {
      "text/plain": [
       "array([[0.90146165, 0.14271051],\n",
       "       [0.3565442 , 0.17472977],\n",
       "       [0.39381941, 0.974553  ]])"
      ]
     },
     "execution_count": 13,
     "metadata": {},
     "output_type": "execute_result"
    }
   ],
   "source": [
    "np.random.rand(3,2)"
   ]
  },
  {
   "cell_type": "code",
   "execution_count": 14,
   "metadata": {
    "scrolled": true
   },
   "outputs": [
    {
     "data": {
      "text/plain": [
       "array([0.15260228, 0.99159718, 0.46837356, 0.65128828])"
      ]
     },
     "execution_count": 14,
     "metadata": {},
     "output_type": "execute_result"
    }
   ],
   "source": [
    "np.random.rand(4)"
   ]
  },
  {
   "cell_type": "markdown",
   "metadata": {},
   "source": [
    "There are further variations on the simple random data functions for which I demonstrate the examples below.[3]"
   ]
  },
  {
   "cell_type": "markdown",
   "metadata": {},
   "source": [
    "##### randn function \n",
    "The randn function is demonstrated below showing how this function returns a sample/s from the \"standard normal\" distribution.[3]\n",
    "A single float is randomly sampled from the distribution if no argument is provided for rhe randn function.[3] For example:[3]"
   ]
  },
  {
   "cell_type": "code",
   "execution_count": 16,
   "metadata": {},
   "outputs": [
    {
     "data": {
      "text/plain": [
       "0.46368215865121565"
      ]
     },
     "execution_count": 16,
     "metadata": {},
     "output_type": "execute_result"
    }
   ],
   "source": [
    "np.random.randn()"
   ]
  },
  {
   "cell_type": "markdown",
   "metadata": {},
   "source": [
    "If arguments are inserted, then the randn function creates an array of shape filled with random floats taken from a univariate \"normal\" distribution in which the mean is 0 with a variance of 1.[3] For example:[3]"
   ]
  },
  {
   "cell_type": "code",
   "execution_count": 17,
   "metadata": {},
   "outputs": [
    {
     "data": {
      "text/plain": [
       "array([[1.06066274, 0.26065519, 1.27837753, 3.30748372],\n",
       "       [2.28363859, 1.16417649, 2.63239221, 6.94101817]])"
      ]
     },
     "execution_count": 17,
     "metadata": {},
     "output_type": "execute_result"
    }
   ],
   "source": [
    "2.5 * np.random.randn(2, 4) + 3"
   ]
  },
  {
   "cell_type": "markdown",
   "metadata": {},
   "source": [
    "#### Permutations\n",
    "Permutations function is used for..... It has two functions, namely: shuffle and permutation.[3, 4]"
   ]
  },
  {
   "cell_type": "markdown",
   "metadata": {},
   "source": [
    "### 3. The use and purpose of at least five \"Distributions\" functions"
   ]
  },
  {
   "cell_type": "markdown",
   "metadata": {},
   "source": [
    "#### beta\n",
    "The beta distribution code is (a, b[, size]) and is used to draw samples from a Beta distribution.[3]"
   ]
  },
  {
   "cell_type": "code",
   "execution_count": null,
   "metadata": {},
   "outputs": [],
   "source": []
  },
  {
   "cell_type": "markdown",
   "metadata": {},
   "source": [
    "#### geometric\n",
    "\n",
    "The geometric distribution code is (p[, size]) and is used to draw samples from the geometric distribution.[3]\n",
    "\n"
   ]
  },
  {
   "cell_type": "code",
   "execution_count": null,
   "metadata": {},
   "outputs": [],
   "source": []
  },
  {
   "cell_type": "markdown",
   "metadata": {},
   "source": [
    "#### normal\n",
    "\n",
    "The normal distribution code is ([loc, scale, size]) and is used to draw random samples from a normal (Gaussian) distribution.[3]"
   ]
  },
  {
   "cell_type": "code",
   "execution_count": null,
   "metadata": {},
   "outputs": [],
   "source": []
  },
  {
   "cell_type": "markdown",
   "metadata": {},
   "source": [
    "#### triangular\n",
    "\n",
    "The triangular distribution code is (left, mode, right[, size]) and is used to draw samples from the triangular distribution over the interval [left, right]. [3]"
   ]
  },
  {
   "cell_type": "code",
   "execution_count": null,
   "metadata": {},
   "outputs": [],
   "source": []
  },
  {
   "cell_type": "markdown",
   "metadata": {},
   "source": [
    "#### gumbel\n",
    "\n",
    "The gumbel distribution code is ([loc, scale, size]) and is used to draw samples from a Gumbel distribution.[3]\n",
    "\n"
   ]
  },
  {
   "cell_type": "code",
   "execution_count": null,
   "metadata": {},
   "outputs": [],
   "source": []
  },
  {
   "cell_type": "markdown",
   "metadata": {},
   "source": [
    "### 4. The use of seeds in generating pseudorandom numbers"
   ]
  },
  {
   "cell_type": "code",
   "execution_count": null,
   "metadata": {},
   "outputs": [],
   "source": []
  },
  {
   "cell_type": "code",
   "execution_count": null,
   "metadata": {},
   "outputs": [],
   "source": []
  },
  {
   "cell_type": "markdown",
   "metadata": {},
   "source": [
    "### References\n",
    "\n",
    "1. Ian Mcoughlin. Introduction to numpy.random. 2018. Available from: https://web.microsoftstream.com/video/ea6519e9-f7ed-444c-9b25-d855dfaa363a (Access date: 10 November 2019)\n",
    "2. NumPy.org. Random sampling (numpy.random). NumPy v1.17rc1 Manual. 2019. Available at: https://numpy.org/doc/1.17/reference/random/index.html (Access date: 10 November 2019)\n",
    "3. SciPy.org. Random sampling (numpy.random). NumPy v1.15 Manual. 2018. Available at: https://docs.scipy.org/doc/numpy-1.15.0/reference/routines.random.html (Access date: 10 November 2019)\n",
    "4. NumPy.org. Random Generator. NumPy v1.17rc1 Manual. 2019 Available at: https://numpy.org/doc/1.17/reference/random/generator.html (Access date: 10 November 2019)"
   ]
  },
  {
   "cell_type": "code",
   "execution_count": null,
   "metadata": {},
   "outputs": [],
   "source": []
  }
 ],
 "metadata": {
  "kernelspec": {
   "display_name": "Python 3",
   "language": "python",
   "name": "python3"
  },
  "language_info": {
   "codemirror_mode": {
    "name": "ipython",
    "version": 3
   },
   "file_extension": ".py",
   "mimetype": "text/x-python",
   "name": "python",
   "nbconvert_exporter": "python",
   "pygments_lexer": "ipython3",
   "version": "3.7.3"
  }
 },
 "nbformat": 4,
 "nbformat_minor": 2
}
