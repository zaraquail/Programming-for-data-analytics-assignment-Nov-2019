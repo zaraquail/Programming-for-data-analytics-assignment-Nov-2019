{
 "cells": [
  {
   "cell_type": "markdown",
   "metadata": {},
   "source": [
    "# The numpy.random package in Python"
   ]
  },
  {
   "cell_type": "markdown",
   "metadata": {},
   "source": [
    "## Student: Zara Quail G00376517"
   ]
  },
  {
   "cell_type": "markdown",
   "metadata": {},
   "source": [
    "## Programming for Data Analytics Assignment 11 November 2019"
   ]
  },
  {
   "cell_type": "markdown",
   "metadata": {},
   "source": [
    "### 1. The overall purpose of the numpy.random package"
   ]
  },
  {
   "cell_type": "markdown",
   "metadata": {},
   "source": [
    "The numpy.random is a sub-package of the numpy Python package that is designed to generate pseudo random numbers or arrays of numbers.[1,2] It does so by combining sequences from a BitGenerator with samples from different statistical distributions sampled by a Generator.[2] A BitGenerator is an object that is used to generate random numbers or sequences.[2]  Sequences of random bits from a BitGenerator are then transformed by a Generator into sequences of numbers that are in a specific probability distribution inside a specified interval. "
   ]
  },
  {
   "cell_type": "code",
   "execution_count": 2,
   "metadata": {},
   "outputs": [],
   "source": [
    "import numpy as np"
   ]
  },
  {
   "cell_type": "markdown",
   "metadata": {},
   "source": [
    "### 2. The use of the \"Simple random data\" and \"Permutations\" functions"
   ]
  },
  {
   "cell_type": "markdown",
   "metadata": {},
   "source": [
    "Simple random data function is used for....."
   ]
  },
  {
   "cell_type": "markdown",
   "metadata": {},
   "source": [
    "Permutations function is used for...."
   ]
  },
  {
   "cell_type": "markdown",
   "metadata": {},
   "source": [
    "### 3. The use and purpose of at least five \"Distributions\" functions"
   ]
  },
  {
   "cell_type": "markdown",
   "metadata": {},
   "source": [
    "#### beta\n",
    "The beta distribution code is (a, b[, size]) and is used to draw samples from a Beta distribution.[3]"
   ]
  },
  {
   "cell_type": "code",
   "execution_count": null,
   "metadata": {},
   "outputs": [],
   "source": []
  },
  {
   "cell_type": "markdown",
   "metadata": {},
   "source": [
    "#### geometric\n",
    "\n",
    "The geometric distribution code is (p[, size]) and is used to draw samples from the geometric distribution.[3]\n",
    "\n"
   ]
  },
  {
   "cell_type": "code",
   "execution_count": null,
   "metadata": {},
   "outputs": [],
   "source": []
  },
  {
   "cell_type": "markdown",
   "metadata": {},
   "source": [
    "#### normal\n",
    "\n",
    "The normal distribution code is ([loc, scale, size]) and is used to draw random samples from a normal (Gaussian) distribution.[3]"
   ]
  },
  {
   "cell_type": "code",
   "execution_count": null,
   "metadata": {},
   "outputs": [],
   "source": []
  },
  {
   "cell_type": "markdown",
   "metadata": {},
   "source": [
    "#### triangular\n",
    "\n",
    "The triangular distribution code is (left, mode, right[, size]) and is used to draw samples from the triangular distribution over the interval [left, right]. [3]"
   ]
  },
  {
   "cell_type": "code",
   "execution_count": null,
   "metadata": {},
   "outputs": [],
   "source": []
  },
  {
   "cell_type": "markdown",
   "metadata": {},
   "source": [
    "#### gumbel\n",
    "\n",
    "The gumbel distribution code is ([loc, scale, size]) and is used to draw samples from a Gumbel distribution.[3]\n",
    "\n"
   ]
  },
  {
   "cell_type": "code",
   "execution_count": null,
   "metadata": {},
   "outputs": [],
   "source": []
  },
  {
   "cell_type": "markdown",
   "metadata": {},
   "source": [
    "### 4. The use of seeds in generating pseudorandom numbers"
   ]
  },
  {
   "cell_type": "code",
   "execution_count": null,
   "metadata": {},
   "outputs": [],
   "source": []
  },
  {
   "cell_type": "code",
   "execution_count": null,
   "metadata": {},
   "outputs": [],
   "source": []
  },
  {
   "cell_type": "markdown",
   "metadata": {},
   "source": [
    "### References\n",
    "\n",
    "1. Ian Mcoughlin. Introduction to numpy.random. 2018. Available from: https://web.microsoftstream.com/video/ea6519e9-f7ed-444c-9b25-d855dfaa363a\n",
    "2. NumPy.org. Random sampling (numpy.random). NumPy v1.17rc1 Manual. 2019. Available at: https://numpy.org/doc/1.17/reference/random/index.html (Access date: 10 November 2019)\n",
    "3. SciPy.org. Random sampling (numpy.random). NumPy v1.14 Manual. 2018. Available at: https://docs.scipy.org/doc/numpy-1.14.0/reference/routines.random.html (Access date: 10 November 2019)"
   ]
  },
  {
   "cell_type": "code",
   "execution_count": null,
   "metadata": {},
   "outputs": [],
   "source": []
  }
 ],
 "metadata": {
  "kernelspec": {
   "display_name": "Python 3",
   "language": "python",
   "name": "python3"
  },
  "language_info": {
   "codemirror_mode": {
    "name": "ipython",
    "version": 3
   },
   "file_extension": ".py",
   "mimetype": "text/x-python",
   "name": "python",
   "nbconvert_exporter": "python",
   "pygments_lexer": "ipython3",
   "version": "3.7.3"
  }
 },
 "nbformat": 4,
 "nbformat_minor": 2
}
